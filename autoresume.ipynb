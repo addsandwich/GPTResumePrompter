{
 "cells": [
  {
   "cell_type": "code",
   "execution_count": 1,
   "id": "61325382-c60b-4f79-83b5-aee8b8f96320",
   "metadata": {},
   "outputs": [],
   "source": [
    "import os\n",
    "import time\n",
    "from openai import OpenAI\n",
    "import datetime"
   ]
  },
  {
   "cell_type": "code",
   "execution_count": 6,
   "id": "68b77530-d144-41de-ae1d-3a79248ea585",
   "metadata": {},
   "outputs": [],
   "source": [
    "os.environ[\"OPENAI_API_KEY\"] = ''\n",
    "# Set MODEL to \"gpt-3.5-turbo\"\n",
    "model = \"gpt-3.5-turbo\"\n",
    "# Set temperature to 0.9, it can be from 0~1, 0 is the most conservative, 1 is the most creative\n",
    "temperature = 0.9\n",
    "output_file = 'results.txt'\n",
    "\n",
    "client = OpenAI(\n",
    "    # This is the default and can be omitted\n",
    "    api_key=os.environ.get(\"OPENAI_API_KEY\"),\n",
    ")"
   ]
  },
  {
   "cell_type": "code",
   "execution_count": 16,
   "id": "c6cbb2a5-6b17-40c2-bc76-0f015c22bcf9",
   "metadata": {},
   "outputs": [],
   "source": [
    "def grab_fileinfo(dict, key, data_folder):\n",
    "    data = ''\n",
    "    \n",
    "    # Current working directory\n",
    "    current_dir = os.getcwd()\n",
    "    path = os.path.join(current_dir, data_folder, dict[key])\n",
    "\n",
    "    with open(path, 'r') as file:\n",
    "        data = file.read()\n",
    "    return data\n",
    "\n",
    "def create_message(role, input):\n",
    "    message_list = []\n",
    "    system_message = {\"role\": \"system\", \"content\": role}\n",
    "    message_list.append(system_message)\n",
    "    user_message = {\"role\": \"user\", \"content\": input}\n",
    "    message_list.append(user_message)\n",
    "    return message_list\n",
    "\n",
    "def grab_respons(message_list):\n",
    "    chat_completion = client.chat.completions.create(\n",
    "    messages=message_list,\n",
    "    model=\"gpt-3.5-turbo\",\n",
    "    )\n",
    "    return chat_completion.choices[0].message.content\n",
    "\n",
    "def create_cover_msg(messagingDict, resume_key):\n",
    "    msgstr = append_job(messagingDict, resume_key)\n",
    "    msgstr += 'Cover Letter:\\n'\n",
    "    msgstr += messagingDict['CoverLetter']\n",
    "    return msgstr\n",
    "\n",
    "def append_job(messagingDict, resume_key):\n",
    "    msgstr = 'Resume:\\n'\n",
    "    msgstr += messagingDict[resume_key]\n",
    "    msgstr += 'Job Listing:\\n'\n",
    "    msgstr += messagingDict['JobListing']\n",
    "    return msgstr\n",
    "\n",
    "def full_sweep(messagingDict):\n",
    "    message_list = create_message(messagingDict['CreatePrompt'], messagingDict['ResumeInfo'])\n",
    "    messagingDict['ResumeInfo2'] = grab_respons(message_list)\n",
    "    msg = append_job(messagingDict, 'ResumeInfo2')\n",
    "    message_list = create_message(messagingDict['RefinePrompt'], msg)\n",
    "    messagingDict['ResumeInfo3'] = grab_respons(message_list)\n",
    "    msg = append_job(messagingDict, 'ResumeInfo3')\n",
    "    message_list = create_message(messagingDict['AuditPrompt'], msg)\n",
    "    output = {}\n",
    "    output['FinalResume'] = messagingDict['ResumeInfo3']\n",
    "    output['Rating'] = grab_respons(message_list)\n",
    "    msg = create_cover_msg(messagingDict, 'ResumeInfo3')\n",
    "    message_list = create_message(messagingDict['CoverPrompt'], msg)\n",
    "    output['CoverLetter'] = grab_respons(message_list)\n",
    "    \n",
    "    return output"
   ]
  },
  {
   "cell_type": "code",
   "execution_count": 8,
   "id": "552f367d-3de2-49b4-9e19-8bd1154c5d52",
   "metadata": {},
   "outputs": [],
   "source": [
    "messagingDict = {}\n",
    "data_folder = 'data'\n",
    "\n",
    "filenames = {\n",
    "    'CreatePrompt' : 'create_prompt.txt',\n",
    "    'RefinePrompt' : 'refine_prompt.txt',\n",
    "    'AuditPrompt' : 'audit_prompt.txt',\n",
    "    'ResumeInfo' : 'resume_info.txt',\n",
    "    'CoverLetter' : 'cover_letter.txt',\n",
    "    'CoverPrompt' : 'cover_prompt.txt',\n",
    "    'JobListing' : 'job_listing.txt'\n",
    "}\n",
    "\n",
    "for k in filenames.keys():\n",
    "    messagingDict[k] = grab_fileinfo(filenames, k, data_folder)\n",
    "\n",
    "messagingDict['Separator'] = '\\n-----------------------------------------------------------------------\\n'"
   ]
  },
  {
   "cell_type": "code",
   "execution_count": 18,
   "id": "cc5b023e-c45f-49d6-954a-843fa433d0da",
   "metadata": {},
   "outputs": [],
   "source": [
    "results = full_sweep(messagingDict)"
   ]
  },
  {
   "cell_type": "code",
   "execution_count": 22,
   "id": "e8ab264d-59f3-46b2-bb5c-d51000d5665a",
   "metadata": {},
   "outputs": [],
   "source": [
    "try:\n",
    "    #datetime_object = str(datetime.datetime.fromtimestamp(time.time()))\n",
    "    f = open(\"resume_file.txt\", \"w\")\n",
    "    f.write(results['FinalResume'])\n",
    "    f.close()\n",
    "    f = open(\"rating_file.txt\", \"a\")\n",
    "    f.write(results['Rating'])\n",
    "    f.close()\n",
    "    f = open(\"cover_output.txt\", \"w\")\n",
    "    f.write(results['CoverLetter'])\n",
    "    f.close()\n",
    "except IOError:\n",
    "    print(\"Could not write file\")\n",
    "finally:\n",
    "    f.close()"
   ]
  },
  {
   "cell_type": "code",
   "execution_count": null,
   "id": "815ceb93-eabd-444f-916b-8dad32591f84",
   "metadata": {},
   "outputs": [],
   "source": []
  }
 ],
 "metadata": {
  "kernelspec": {
   "display_name": "Python 3 (ipykernel)",
   "language": "python",
   "name": "python3"
  },
  "language_info": {
   "codemirror_mode": {
    "name": "ipython",
    "version": 3
   },
   "file_extension": ".py",
   "mimetype": "text/x-python",
   "name": "python",
   "nbconvert_exporter": "python",
   "pygments_lexer": "ipython3",
   "version": "3.11.5"
  }
 },
 "nbformat": 4,
 "nbformat_minor": 5
}
